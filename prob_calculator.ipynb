{
 "cells": [
  {
   "cell_type": "code",
   "execution_count": 27,
   "id": "e413464d",
   "metadata": {},
   "outputs": [],
   "source": [
    "class Hat(object):\n",
    "    \n",
    "    def __init__(self,contents=[],**kwargs):\n",
    "        self.contents=contents\n",
    "        \n",
    "        for k,v in kwargs.items():\n",
    "            for j in range(v):\n",
    "                self.contents.append(k)\n",
    "        print(self.contents)\n",
    "            \n",
    "    def drawn(self,num_balls_drawn,sample_list=[]):\n",
    "        self.num_balls_drawn=num_balls_drawn\n",
    "        self.sample_list=sample_list\n",
    "        from random import sample\n",
    "        \n",
    "        if self.num_balls_drawn<len(self.contents): \n",
    "            self.sample_list=sample(self.contents,self.num_balls_drawn)\n",
    "        \n",
    "        if self.num_balls_drawn>=len(self.contents):\n",
    "            self.sample_list=sample(self.contents,0)\n",
    "       \n",
    "        return self.sample_list\n",
    "\n",
    "    \n",
    "def experiment(hat=object, expected_balls=dict, num_balls_drawn=int, num_experiments=int):\n",
    "    m=0\n",
    "    b=list()\n",
    "    c=dict()\n",
    "    a=hat.contents\n",
    "    \n",
    "    if num_balls_drawn<len(a):\n",
    "        \n",
    "        for i in range(num_experiments):\n",
    "            b=hat.drawn(num_balls_drawn)\n",
    "            for k in expected_balls.keys():\n",
    "                c[k]=b.count(k)\n",
    "                if c==expected_balls:\n",
    "                    m=m+1\n",
    "                else:\n",
    "                    continue\n",
    "                    \n",
    "    if num_balls_drawn>=len(hat.contents):\n",
    "        m=num_experiments\n",
    "    \n",
    "    probability=m/num_experiments\n",
    "    print(\"Probability\",probability)\n"
   ]
  },
  {
   "cell_type": "code",
   "execution_count": 20,
   "id": "e9d160c9",
   "metadata": {},
   "outputs": [
    {
     "name": "stdout",
     "output_type": "stream",
     "text": [
      "['red', 'red', 'red', 'blue', 'blue']\n"
     ]
    },
    {
     "data": {
      "text/plain": [
       "5"
      ]
     },
     "execution_count": 20,
     "metadata": {},
     "output_type": "execute_result"
    }
   ],
   "source": [
    "#tests\n",
    "import random\n",
    "random.seed(95)\n",
    "hat = Hat(red=3,blue=2)\n",
    "#expected = [\"red\",\"red\",\"red\",\"blue\",\"blue\"]\n",
    "len(hat.contents) # check\n",
    "#expected = 5"
   ]
  },
  {
   "cell_type": "code",
   "execution_count": 22,
   "id": "72bb09ce",
   "metadata": {},
   "outputs": [
    {
     "name": "stdout",
     "output_type": "stream",
     "text": [
      "['red', 'red', 'red', 'red', 'red', 'blue', 'blue']\n"
     ]
    },
    {
     "data": {
      "text/plain": [
       "['blue', 'red']"
      ]
     },
     "execution_count": 22,
     "metadata": {},
     "output_type": "execute_result"
    }
   ],
   "source": [
    "import random\n",
    "random.seed(95)\n",
    "hat = Hat(red=5,blue=2)\n",
    "hat.drawn(2)   \n",
    "# expected = ['blue', 'red']"
   ]
  },
  {
   "cell_type": "code",
   "execution_count": 24,
   "id": "c89ce97e",
   "metadata": {
    "scrolled": false
   },
   "outputs": [
    {
     "name": "stdout",
     "output_type": "stream",
     "text": [
      "['blue', 'blue', 'blue', 'red', 'red', 'green', 'green', 'green', 'green', 'green', 'green']\n",
      "Probability 0.161\n"
     ]
    }
   ],
   "source": [
    "random.seed(95)\n",
    "hat2 = Hat(blue=3,red=2,green=6)\n",
    "probability = experiment(hat=hat2, expected_balls={\"blue\":2,\"green\":1}, num_balls_drawn=4, num_experiments=1000)"
   ]
  },
  {
   "cell_type": "code",
   "execution_count": 26,
   "id": "16a55f33",
   "metadata": {
    "scrolled": true
   },
   "outputs": [
    {
     "name": "stdout",
     "output_type": "stream",
     "text": [
      "['yellow', 'yellow', 'yellow', 'yellow', 'yellow', 'red', 'green', 'green', 'green', 'blue', 'blue', 'blue', 'blue', 'blue', 'blue', 'blue', 'blue', 'blue', 'test']\n",
      "Probability 1.0\n"
     ]
    }
   ],
   "source": [
    "random.seed(95)\n",
    "hat3 = Hat(yellow=5,red=1,green=3,blue=9,test=1)\n",
    "probability = experiment(hat=hat3, expected_balls={\"yellow\":2,\"blue\":3,\"test\":1}, num_balls_drawn=20, num_experiments=100)\n",
    "#expected = 1.0"
   ]
  },
  {
   "cell_type": "code",
   "execution_count": 28,
   "id": "067407f7",
   "metadata": {},
   "outputs": [
    {
     "name": "stdout",
     "output_type": "stream",
     "text": [
      "['blue', 'blue', 'blue', 'blue', 'red', 'red', 'green', 'green', 'green', 'green', 'green', 'green']\n",
      "Probability 0.295\n"
     ]
    }
   ],
   "source": [
    "# tests main\n",
    "import random\n",
    "random.seed(95)\n",
    "hat4 = Hat(blue=4, red=2, green=6)\n",
    "probability = experiment(\n",
    "    hat=hat4,\n",
    "    expected_balls={\"blue\": 2,\n",
    "                    \"red\": 1},\n",
    "    num_balls_drawn=4,\n",
    "    num_experiments=3000)"
   ]
  },
  {
   "cell_type": "code",
   "execution_count": null,
   "id": "4642a144",
   "metadata": {},
   "outputs": [],
   "source": []
  }
 ],
 "metadata": {
  "kernelspec": {
   "display_name": "Python 3 (ipykernel)",
   "language": "python",
   "name": "python3"
  },
  "language_info": {
   "codemirror_mode": {
    "name": "ipython",
    "version": 3
   },
   "file_extension": ".py",
   "mimetype": "text/x-python",
   "name": "python",
   "nbconvert_exporter": "python",
   "pygments_lexer": "ipython3",
   "version": "3.9.13"
  }
 },
 "nbformat": 4,
 "nbformat_minor": 5
}
